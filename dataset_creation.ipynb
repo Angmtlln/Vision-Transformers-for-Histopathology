{
 "cells": [
  {
   "cell_type": "code",
   "execution_count": null,
   "id": "initial_id",
   "metadata": {
    "collapsed": true
   },
   "outputs": [],
   "source": [
    "# python\n",
    "import os\n",
    "import pandas as pd\n",
    "from sklearn.model_selection import train_test_split\n",
    "\n",
    "isic_root = os.path.join('data', 'ISIC')\n",
    "meta_csv = os.path.join(isic_root, 'HAM10000_metadata.csv')\n",
    "image_dirs = [\n",
    "    os.path.join(isic_root, 'HAM10000_images_part_1'),\n",
    "    os.path.join(isic_root, 'HAM10000_images_part_2'),\n",
    "]\n",
    "\n",
    "if not os.path.isfile(meta_csv):\n",
    "    raise FileNotFoundError(f\"Не найден файл метаданных: {meta_csv}\")\n",
    "for d in image_dirs:\n",
    "    if not os.path.isdir(d):\n",
    "        raise FileNotFoundError(f\"Не найдена папка с изображениями: {d}\")\n",
    "\n",
    "df = pd.read_csv(meta_csv)\n",
    "required_cols = {'image_id', 'dx'}\n",
    "missing = required_cols - set(df.columns)\n",
    "if missing:\n",
    "    raise ValueError(f\"В метаданных отсутствуют столбцы: {missing}\")\n",
    "\n",
    "path_by_id = {}\n",
    "for d in image_dirs:\n",
    "    for fname in os.listdir(d):\n",
    "        if fname.lower().endswith('.jpg'):\n",
    "            img_id = os.path.splitext(fname)[0]\n",
    "            path_by_id[img_id] = os.path.join(d, fname)\n",
    "\n",
    "df['path'] = df['image_id'].map(path_by_id)\n",
    "df = df.dropna(subset=['path']).reset_index(drop=True)\n",
    "\n",
    "X = df['path'].tolist()\n",
    "y = df['dx'].tolist()\n",
    "X_train, X_test, y_train, y_test = train_test_split(\n",
    "    X, y, test_size=0.2, stratify=y, random_state=42\n",
    ")\n",
    "\n",
    "train_df = pd.DataFrame({'path': X_train, 'label': y_train})\n",
    "test_df = pd.DataFrame({'path': X_test, 'label': y_test})\n",
    "\n",
    "train_csv = os.path.join(isic_root, 'split_train.csv')\n",
    "test_csv = os.path.join(isic_root, 'split_test.csv')\n",
    "train_df.to_csv(train_csv, index=False)\n",
    "test_df.to_csv(test_csv, index=False)\n",
    "\n",
    "print(f\"Сохранены списки:\\n  {train_csv}\\n  {test_csv}\")"
   ]
  }
 ],
 "metadata": {
  "kernelspec": {
   "display_name": "Python 3",
   "language": "python",
   "name": "python3"
  },
  "language_info": {
   "codemirror_mode": {
    "name": "ipython",
    "version": 2
   },
   "file_extension": ".py",
   "mimetype": "text/x-python",
   "name": "python",
   "nbconvert_exporter": "python",
   "pygments_lexer": "ipython2",
   "version": "2.7.6"
  }
 },
 "nbformat": 4,
 "nbformat_minor": 5
}
